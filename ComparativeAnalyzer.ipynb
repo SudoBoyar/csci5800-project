{
 "cells": [
  {
   "cell_type": "code",
   "execution_count": 1,
   "metadata": {},
   "outputs": [
    {
     "name": "stderr",
     "output_type": "stream",
     "text": [
      "/home/anuj/anaconda3/lib/python3.6/site-packages/nltk/twitter/__init__.py:20: UserWarning: The twython library has not been installed. Some functionality from the twitter package will not be available.\n",
      "  warnings.warn(\"The twython library has not been installed. \"\n"
     ]
    }
   ],
   "source": [
    "import nltk\n",
    "from nltk.sentiment.vader import SentimentIntensityAnalyzer\n",
    "from os import listdir\n",
    "from os.path import isfile, join\n",
    "import re\n",
    "#THIS IS PATH FOR SAMPLE DATA TO BE ANALYZED BY NLTK\n",
    "DATA_PATH = '/home/anuj/Projects/NLTK/december1'\n",
    "\n",
    "#THIS IS PATH FOR PIG ANALYZED DATA\n",
    "A_DATA_PATH = '/home/anuj/Projects/NLTK/analyzed_sample4'\n",
    "import copy\n",
    "import time"
   ]
  },
  {
   "cell_type": "code",
   "execution_count": 2,
   "metadata": {},
   "outputs": [
    {
     "name": "stdout",
     "output_type": "stream",
     "text": [
      "\n",
      "====START======\n",
      "\n"
     ]
    }
   ],
   "source": [
    "\n",
    "onlyfiles = [f for f in listdir(DATA_PATH) if isfile(join(DATA_PATH, f))]\n",
    "wr = []\n",
    "i=0\n",
    "print(\"\\n====START======\\n\")\n",
    "for fi in onlyfiles:\n",
    "    with open(DATA_PATH+'/'+fi) as f_open:\n",
    "        for line in f_open:\n",
    "            #print(line)\n",
    "            if(re.match(r'^[0-9]{18}',line)):\n",
    "                #print(line)\n",
    "                #print('.',end='')\n",
    "                temp = line.split('\\x0B')\n",
    "                wr.append([temp[0],temp[1],temp[-1],temp[-2]])\n",
    "            #print(temp)\n",
    "#             i = i+1\n",
    "#             if(i == 20000):\n",
    "#                 break"
   ]
  },
  {
   "cell_type": "code",
   "execution_count": 3,
   "metadata": {},
   "outputs": [
    {
     "data": {
      "text/plain": [
       "3673522"
      ]
     },
     "execution_count": 3,
     "metadata": {},
     "output_type": "execute_result"
    }
   ],
   "source": [
    "len(wr)"
   ]
  },
  {
   "cell_type": "code",
   "execution_count": 4,
   "metadata": {
    "collapsed": true
   },
   "outputs": [],
   "source": [
    "sid = SentimentIntensityAnalyzer()"
   ]
  },
  {
   "cell_type": "code",
   "execution_count": 5,
   "metadata": {
    "collapsed": true
   },
   "outputs": [],
   "source": [
    "wr_sent = []\n",
    "st = time.time()\n",
    "for entry in wr:\n",
    "    temp = copy.deepcopy(entry)\n",
    "    rat = 0.0\n",
    "    #print(entry)\n",
    "    ss = sid.polarity_scores(entry[-1])\n",
    "    #print(ss['neg'])\n",
    "    #print(ss['pos'])\n",
    "    if(ss['neg']>ss['pos']):\n",
    "        #print('neg')\n",
    "        rat = -1 * ss['neg']\n",
    "    else:\n",
    "        #print('pos')\n",
    "        rat = ss['pos']\n",
    "    temp.append(rat)\n",
    "    \n",
    "    wr_sent.append(temp)\n",
    "\n",
    "en = time.time()\n",
    "runtime = en - st"
   ]
  },
  {
   "cell_type": "code",
   "execution_count": 6,
   "metadata": {},
   "outputs": [
    {
     "data": {
      "text/plain": [
       "1041.4601056575775"
      ]
     },
     "execution_count": 6,
     "metadata": {},
     "output_type": "execute_result"
    }
   ],
   "source": [
    "runtime"
   ]
  },
  {
   "cell_type": "code",
   "execution_count": 7,
   "metadata": {
    "collapsed": true
   },
   "outputs": [],
   "source": [
    "tot_neg = 0\n",
    "tot_pos = 0\n",
    "for entry in wr_sent:\n",
    "    if(entry[-1] <0):\n",
    "        tot_neg = tot_neg + entry[-1]\n",
    "    else:\n",
    "        tot_pos = tot_pos + entry[-1]\n"
   ]
  },
  {
   "cell_type": "code",
   "execution_count": 8,
   "metadata": {},
   "outputs": [
    {
     "data": {
      "text/plain": [
       "(-183306.04399996545, 401426.80200037145)"
      ]
     },
     "execution_count": 8,
     "metadata": {},
     "output_type": "execute_result"
    }
   ],
   "source": [
    "(tot_neg, tot_pos)"
   ]
  },
  {
   "cell_type": "code",
   "execution_count": null,
   "metadata": {
    "collapsed": true
   },
   "outputs": [],
   "source": []
  },
  {
   "cell_type": "code",
   "execution_count": 10,
   "metadata": {},
   "outputs": [
    {
     "name": "stdout",
     "output_type": "stream",
     "text": [
      "part-r-00003\n",
      "part-r-00002\n",
      "part-r-00000\n",
      "part-r-00001\n"
     ]
    }
   ],
   "source": [
    "analysedFiles = [f for f in listdir(A_DATA_PATH) if isfile(join(A_DATA_PATH, f))]\n",
    "\n",
    "nlt_tot_neg = 0\n",
    "nlt_tot_pos = 0\n",
    "for fi in analysedFiles:\n",
    "    print(fi)\n",
    "    with open(A_DATA_PATH+'/'+fi) as f_open:\n",
    "        for line in f_open:\n",
    "            temp = line.split(';')\n",
    "            #print(temp[8])\n",
    "            if(float(temp[8]) < 0 ):\n",
    "                #print('neg')\n",
    "                nlt_tot_neg = nlt_tot_neg + float(temp[8])\n",
    "            else:\n",
    "                #print('pos')\n",
    "                nlt_tot_pos = nlt_tot_pos + float(temp[8])\n"
   ]
  },
  {
   "cell_type": "code",
   "execution_count": 11,
   "metadata": {},
   "outputs": [
    {
     "data": {
      "text/plain": [
       "(-1367505.850948328, 2416884.551690014)"
      ]
     },
     "execution_count": 11,
     "metadata": {},
     "output_type": "execute_result"
    }
   ],
   "source": [
    "(nlt_tot_neg,nlt_tot_pos)"
   ]
  },
  {
   "cell_type": "code",
   "execution_count": null,
   "metadata": {
    "collapsed": true
   },
   "outputs": [],
   "source": [
    "import numpy as np\n",
    "import matplotlib.pyplot as plt\n",
    "\n",
    "objects = ('NLTK','PIG')\n",
    "poses = [51497.80,308035.8]\n",
    "y_pos = np.arange(len(objects))\n",
    "\n",
    "plt.bar(y_pos,poses)\n",
    "plt.show()"
   ]
  },
  {
   "cell_type": "code",
   "execution_count": null,
   "metadata": {
    "collapsed": true
   },
   "outputs": [],
   "source": []
  }
 ],
 "metadata": {
  "kernelspec": {
   "display_name": "Python 3",
   "language": "python",
   "name": "python3"
  },
  "language_info": {
   "codemirror_mode": {
    "name": "ipython",
    "version": 3
   },
   "file_extension": ".py",
   "mimetype": "text/x-python",
   "name": "python",
   "nbconvert_exporter": "python",
   "pygments_lexer": "ipython3",
   "version": "3.6.4"
  }
 },
 "nbformat": 4,
 "nbformat_minor": 2
}
